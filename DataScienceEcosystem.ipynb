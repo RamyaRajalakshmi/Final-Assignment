{
 "cells": [
  {
   "cell_type": "markdown",
   "id": "57fabf91",
   "metadata": {},
   "source": [
    "# Data Science Tools and Ecosystem"
   ]
  },
  {
   "cell_type": "markdown",
   "id": "0d44817b",
   "metadata": {},
   "source": [
    "In this notebook, Data Science Tools and Ecosystem are summarized."
   ]
  },
  {
   "cell_type": "markdown",
   "id": "1695c5ec",
   "metadata": {},
   "source": [
    "**Objectives:**\n",
    "\n",
    "* list data science languages\n",
    "* table of Data Science tools\n",
    "* list popular languages used by Data Scientists\n",
    "* list Data Science Libraries\n",
    "* Evaluating some of the arithematic expressions"
   ]
  },
  {
   "cell_type": "markdown",
   "id": "fb5cae3c",
   "metadata": {},
   "source": [
    "#Some of the popular languages that Data Scientists use are:\n",
    "1. Python\n",
    "2. SQL\n",
    "3. Java\n",
    "4. R \n",
    "5. Scala\n",
    "6. C/C++\n",
    "7. Julia\n",
    "8. Javascript"
   ]
  },
  {
   "cell_type": "markdown",
   "id": "7a8e1c3a",
   "metadata": {},
   "source": [
    "#Some of the commonly used libraries used by Data Scientists include:\n",
    "\n",
    "1. Numpy\n",
    "2. Pandas\n",
    "3. Matplotlib\n",
    "4. Tensorflow\n",
    "5. Keras\n"
   ]
  },
  {
   "cell_type": "markdown",
   "id": "2c32b11e",
   "metadata": {},
   "source": [
    " #Create a markdown cell with a table of Data Science tools\n",
    " \n",
    " | Data Science Tools |\n",
    " |---------------|\n",
    " | Jupyter |\n",
    " | Rstudio |\n",
    " | Apache Spark |"
   ]
  },
  {
   "cell_type": "markdown",
   "id": "ad7bccf2",
   "metadata": {},
   "source": [
    "### Below are a few examples of evaluating arithmetic expressions in Python"
   ]
  },
  {
   "cell_type": "code",
   "execution_count": 3,
   "id": "3e48e3cb",
   "metadata": {},
   "outputs": [
    {
     "data": {
      "text/plain": [
       "17"
      ]
     },
     "execution_count": 3,
     "metadata": {},
     "output_type": "execute_result"
    }
   ],
   "source": [
    "#This a simple arithmetic expression to mutiply then add integers \n",
    "\n",
    "(3*4)+5"
   ]
  },
  {
   "cell_type": "code",
   "execution_count": 4,
   "id": "73839862",
   "metadata": {},
   "outputs": [
    {
     "data": {
      "text/plain": [
       "3.3333333333333335"
      ]
     },
     "execution_count": 4,
     "metadata": {},
     "output_type": "execute_result"
    }
   ],
   "source": [
    "#This will convert 200 minutes to hours by diving by 60\n",
    "200/60"
   ]
  },
  {
   "cell_type": "markdown",
   "id": "0a540957",
   "metadata": {},
   "source": [
    "## Author\n",
    "\n",
    "Ramya Rajalakshmi U "
   ]
  },
  {
   "cell_type": "code",
   "execution_count": null,
   "id": "a38a340f",
   "metadata": {},
   "outputs": [],
   "source": []
  }
 ],
 "metadata": {
  "kernelspec": {
   "display_name": "Python 3 (ipykernel)",
   "language": "python",
   "name": "python3"
  },
  "language_info": {
   "codemirror_mode": {
    "name": "ipython",
    "version": 3
   },
   "file_extension": ".py",
   "mimetype": "text/x-python",
   "name": "python",
   "nbconvert_exporter": "python",
   "pygments_lexer": "ipython3",
   "version": "3.11.4"
  }
 },
 "nbformat": 4,
 "nbformat_minor": 5
}
